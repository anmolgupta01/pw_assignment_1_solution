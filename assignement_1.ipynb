{
 "cells": [
  {
   "cell_type": "markdown",
   "id": "7cd3547c",
   "metadata": {},
   "source": [
    "Q1. Create one variable containing following type of data:\n",
    "\n",
    "(i)\tstring\n",
    "\n",
    "(ii)\tlist\n",
    "\n",
    "(iii)\tfloat\n",
    "\n",
    "(iv)\ttuple\n"
   ]
  },
  {
   "cell_type": "code",
   "execution_count": 4,
   "id": "620d1220",
   "metadata": {},
   "outputs": [
    {
     "name": "stdout",
     "output_type": "stream",
     "text": [
      "<class 'str'>\n",
      "<class 'list'>\n",
      "<class 'float'>\n",
      "<class 'tuple'>\n"
     ]
    }
   ],
   "source": [
    "string = 'anmol'\n",
    "listt = ['anmol','alakh','subh']\n",
    "floaat = 3.00\n",
    "tupl = (1,2,3,4)\n",
    "print(type(string))\n",
    "print(type(listt))\n",
    "print(type(floaat))\n",
    "print(type(tupl))"
   ]
  },
  {
   "cell_type": "markdown",
   "id": "a14d253f",
   "metadata": {},
   "source": [
    "Q2. Given are some following variables containing data:\n",
    "\n",
    "(i)\tvar1 = ‘ ‘\n",
    "\n",
    "(ii)\tvar2 = ‘[ DS , ML , Python]’\n",
    "\n",
    "(iii)\tvar3 = [ ‘DS’ , ’ML’ , ‘Python’ ]\n",
    "\n",
    "(iv)\tvar4 = 1. \n",
    "\n",
    "What will be the data type of the above given variable.\n",
    "\n",
    "ANSWER] var1 is string type\n",
    "        var2 is string type\n",
    "        var3 is list type\n",
    "        var4 is float type"
   ]
  },
  {
   "cell_type": "code",
   "execution_count": 6,
   "id": "8eb207d7",
   "metadata": {},
   "outputs": [
    {
     "name": "stdout",
     "output_type": "stream",
     "text": [
      "<class 'str'>\n",
      "<class 'str'>\n",
      "<class 'list'>\n",
      "<class 'float'>\n"
     ]
    }
   ],
   "source": [
    "var1 = ''\n",
    "var2 = '[ DS , ML , Python]'\n",
    "var3 = [ 'DS' , 'ML' , 'Python' ]\n",
    "var4 = 1.\n",
    "print(type(var1))\n",
    "print(type(var2))\n",
    "print(type(var3))\n",
    "print(type(var4))"
   ]
  },
  {
   "cell_type": "markdown",
   "id": "67c7dc71",
   "metadata": {},
   "source": [
    "Q3. Explain the use of the following operators using an example:\n",
    "\n",
    "(i)\t/\n",
    "\n",
    "(ii)\t% \n",
    "\n",
    "(iii)\t//\n",
    "\n",
    "(iv)\t**\n",
    "\n",
    "ANSWER]\n",
    "    / is used for division operation,\n",
    "    % is modulo operation and used to return remainder,\n",
    "    // is floor division method which is used to return quotient,\n",
    "    ** is a exponential function,which raises the left operand to right operand and return the result .\n"
   ]
  },
  {
   "cell_type": "code",
   "execution_count": 12,
   "id": "c3b842e9",
   "metadata": {},
   "outputs": [
    {
     "name": "stdout",
     "output_type": "stream",
     "text": [
      "5.0\n",
      "0\n",
      "5\n",
      "100\n"
     ]
    }
   ],
   "source": [
    "a=10\n",
    "b=2\n",
    "print(a/b)\n",
    "print(a%b)\n",
    "print(a//b)\n",
    "print(a**b)\n"
   ]
  },
  {
   "cell_type": "markdown",
   "id": "6a1d63d5",
   "metadata": {},
   "source": [
    "Q4. Create a list of length 10 of your choice containing multiple types of data. Using for loop print the \n",
    "element and its data type."
   ]
  },
  {
   "cell_type": "code",
   "execution_count": 19,
   "id": "dc63ec87",
   "metadata": {},
   "outputs": [
    {
     "name": "stdout",
     "output_type": "stream",
     "text": [
      "Element :  1  and its data type is  <class 'int'>\n",
      "Element :  2  and its data type is  <class 'int'>\n",
      "Element :  3  and its data type is  <class 'int'>\n",
      "Element :  4.0  and its data type is  <class 'float'>\n",
      "Element :  (5+2j)  and its data type is  <class 'complex'>\n",
      "Element :  7  and its data type is  <class 'int'>\n",
      "Element :  anmol  and its data type is  <class 'str'>\n",
      "Element :  subh  and its data type is  <class 'str'>\n",
      "Element :  [1, 2, 3]  and its data type is  <class 'list'>\n",
      "Element :  (4, 5, 6)  and its data type is  <class 'tuple'>\n"
     ]
    }
   ],
   "source": [
    "list1 = [1,2,3,4.0,5+2j,7,'anmol','subh',[1,2,3],(4,5,6)]\n",
    "for i in list1:\n",
    "    print(\"Element : \",i,\" and its data type is \", type(i))"
   ]
  },
  {
   "cell_type": "markdown",
   "id": "efd1c130",
   "metadata": {},
   "source": [
    "Q5. Using a while loop, verify if the number A is purely divisible by number B and if so then how many \n",
    "times it can be divisible."
   ]
  },
  {
   "cell_type": "code",
   "execution_count": 23,
   "id": "377c16bd",
   "metadata": {},
   "outputs": [
    {
     "name": "stdout",
     "output_type": "stream",
     "text": [
      "A is divisible by B 1 times.\n"
     ]
    }
   ],
   "source": [
    "A = 120\n",
    "B = 5\n",
    "\n",
    "count = 0\n",
    "\n",
    "while A % B == 0:\n",
    "    A = A / B\n",
    "    count += 1\n",
    "\n",
    "if count > 0:\n",
    "    print(\"A is divisible by B\",count,\"times.\")\n",
    "else:\n",
    "    print(\"A is not divisible by B.\")"
   ]
  },
  {
   "cell_type": "markdown",
   "id": "ad86ec1d",
   "metadata": {},
   "source": [
    "Q6. Create a list containing 25 int type data. Using for loop and if-else condition print if the element is \n",
    "divisible by 3 or not."
   ]
  },
  {
   "cell_type": "code",
   "execution_count": 27,
   "id": "b0692259",
   "metadata": {},
   "outputs": [
    {
     "name": "stdout",
     "output_type": "stream",
     "text": [
      "1 is not divisible by 3\n",
      "2 is not divisible by 3\n",
      "3 is divisible by 3\n",
      "4 is not divisible by 3\n",
      "5 is not divisible by 3\n",
      "6 is divisible by 3\n",
      "7 is not divisible by 3\n",
      "8 is not divisible by 3\n",
      "9 is divisible by 3\n",
      "10 is not divisible by 3\n",
      "11 is not divisible by 3\n",
      "12 is divisible by 3\n",
      "13 is not divisible by 3\n",
      "14 is not divisible by 3\n",
      "15 is divisible by 3\n",
      "16 is not divisible by 3\n",
      "17 is not divisible by 3\n",
      "18 is divisible by 3\n",
      "19 is not divisible by 3\n",
      "20 is not divisible by 3\n",
      "21 is divisible by 3\n",
      "22 is not divisible by 3\n",
      "23 is not divisible by 3\n",
      "24 is divisible by 3\n",
      "25 is not divisible by 3\n"
     ]
    }
   ],
   "source": [
    "my_list = [1, 2, 3, 4, 5, 6, 7, 8, 9, 10, 11, 12, 13, 14, 15, 16, 17, 18, 19, 20, 21, 22, 23, 24, 25]\n",
    "for i in my_list:\n",
    "    if(i%3==0):\n",
    "        print(i,\"is divisible by 3\")\n",
    "    else:\n",
    "        print(i,\"is not divisible by 3\")"
   ]
  },
  {
   "cell_type": "markdown",
   "id": "0659df75",
   "metadata": {},
   "source": [
    "Q7. What do you understand about mutable and immutable data types? Give examples for both showing \n",
    "this property."
   ]
  },
  {
   "cell_type": "markdown",
   "id": "78afdf90",
   "metadata": {},
   "source": [
    "ANSWER]  Immutable data types are those whose values cannot be modified once they are assigned. \n",
    "Any attempt to change the value of an immutable object can throug a error.\n",
    "Examples of immutable data types in Python include integers, floats, booleans, strings, and tuples.\n",
    "mutable data types allow modifications to their values after they are created. \n",
    "Changes made to a mutable object are reflected in the same object, without creating a new object.\n",
    "Examples of mutable data types in Python include lists, dictionaries, and sets. "
   ]
  },
  {
   "cell_type": "markdown",
   "id": "8939bff5",
   "metadata": {},
   "source": [
    "Below given a example in which an error is encountered when i try to change the element which show that it is immutable"
   ]
  },
  {
   "cell_type": "code",
   "execution_count": 30,
   "id": "dfdc362c",
   "metadata": {},
   "outputs": [
    {
     "name": "stdout",
     "output_type": "stream",
     "text": [
      "anmol\n"
     ]
    },
    {
     "ename": "TypeError",
     "evalue": "'str' object does not support item assignment",
     "output_type": "error",
     "traceback": [
      "\u001b[1;31m---------------------------------------------------------------------------\u001b[0m",
      "\u001b[1;31mTypeError\u001b[0m                                 Traceback (most recent call last)",
      "Cell \u001b[1;32mIn [30], line 3\u001b[0m\n\u001b[0;32m      1\u001b[0m a \u001b[38;5;241m=\u001b[39m \u001b[38;5;124m'\u001b[39m\u001b[38;5;124manmol\u001b[39m\u001b[38;5;124m'\u001b[39m\n\u001b[0;32m      2\u001b[0m \u001b[38;5;28mprint\u001b[39m(a)\n\u001b[1;32m----> 3\u001b[0m \u001b[43ma\u001b[49m\u001b[43m[\u001b[49m\u001b[38;5;241;43m1\u001b[39;49m\u001b[43m]\u001b[49m\u001b[38;5;241m=\u001b[39m\u001b[38;5;124m'\u001b[39m\u001b[38;5;124ms\u001b[39m\u001b[38;5;124m'\u001b[39m\n",
      "\u001b[1;31mTypeError\u001b[0m: 'str' object does not support item assignment"
     ]
    }
   ],
   "source": [
    "a = 'anmol'\n",
    "print(a)\n",
    "a[1]='s'"
   ]
  },
  {
   "cell_type": "markdown",
   "id": "5f83de4c",
   "metadata": {},
   "source": [
    "below given the example in which we change the element of mutable object"
   ]
  },
  {
   "cell_type": "code",
   "execution_count": 31,
   "id": "fbe8f58e",
   "metadata": {},
   "outputs": [
    {
     "name": "stdout",
     "output_type": "stream",
     "text": [
      "[1, 2, 3, 4, 5]\n",
      "[1, 2, 10, 4, 5]\n"
     ]
    }
   ],
   "source": [
    "a = [1,2,3,4,5]\n",
    "print(a)\n",
    "a[2]= 10\n",
    "print(a)"
   ]
  }
 ],
 "metadata": {
  "kernelspec": {
   "display_name": "Python 3 (ipykernel)",
   "language": "python",
   "name": "python3"
  },
  "language_info": {
   "codemirror_mode": {
    "name": "ipython",
    "version": 3
   },
   "file_extension": ".py",
   "mimetype": "text/x-python",
   "name": "python",
   "nbconvert_exporter": "python",
   "pygments_lexer": "ipython3",
   "version": "3.11.4"
  }
 },
 "nbformat": 4,
 "nbformat_minor": 5
}
